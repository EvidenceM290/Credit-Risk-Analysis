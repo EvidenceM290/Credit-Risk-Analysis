{
 "cells": [
  {
   "cell_type": "code",
   "execution_count": null,
   "metadata": {},
   "outputs": [],
   "source": [
    "import knime.scripting.io as knio\n",
    "import numpy as np\n",
    "import matplotlib.pyplot as plt\n",
    "import seaborn as sns\n",
    "\n",
    "# Load input table and convert to pandas DataFrame\n",
    "data = knio.input_tables[0].to_pandas()\n",
    "\n",
    "# Rename the dataframe to 'df' for easier use\n",
    "df = data.copy()\n",
    "\n",
    "# Extracting columns \n",
    "# Column names used: 'GPA', 'GRE', 'School_Rank', 'Admitted'\n",
    "df['admit'] = df['admit'].map({0: 'Not admitted', 1: 'Admitted'})\n",
    "\n",
    "# Create scatterplot\n",
    "fig = plt.figure(figsize=(10, 6))\n",
    "\n",
    "sns.scatterplot(\n",
    "    data=df, \n",
    "    x='gre', \n",
    "    y='gpa', \n",
    "    hue='admit', \n",
    "    style='rank',\n",
    "    palette={'Admitted': 'green', 'Not admitted': 'red'},\n",
    "    s=100  \n",
    ")\n",
    "\n",
    "# Adding labels and title\n",
    "plt.xlabel('GRE Score')\n",
    "plt.ylabel('GPA')\n",
    "plt.title('Scatterplot of GPA vs. GRE by School Rank')\n",
    "plt.legend(title='Admission by Rank')\n",
    "plt.grid(True)\n",
    "\n",
    "\n",
    "# Assign the figure to the output_view variable\n",
    "knio.output_view = knio.view(fig)\n"
   ]
  }
 ],
 "metadata": {
  "language_info": {
   "name": "python"
  }
 },
 "nbformat": 4,
 "nbformat_minor": 2
}
